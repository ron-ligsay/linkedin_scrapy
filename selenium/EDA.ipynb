{
 "cells": [
  {
   "cell_type": "code",
   "execution_count": 8,
   "metadata": {},
   "outputs": [],
   "source": [
    "import pandas as pd"
   ]
  },
  {
   "cell_type": "code",
   "execution_count": 9,
   "metadata": {},
   "outputs": [
    {
     "data": {
      "text/html": [
       "<div>\n",
       "<style scoped>\n",
       "    .dataframe tbody tr th:only-of-type {\n",
       "        vertical-align: middle;\n",
       "    }\n",
       "\n",
       "    .dataframe tbody tr th {\n",
       "        vertical-align: top;\n",
       "    }\n",
       "\n",
       "    .dataframe thead th {\n",
       "        text-align: right;\n",
       "    }\n",
       "</style>\n",
       "<table border=\"1\" class=\"dataframe\">\n",
       "  <thead>\n",
       "    <tr style=\"text-align: right;\">\n",
       "      <th></th>\n",
       "      <th>jobpost_id</th>\n",
       "      <th>Link</th>\n",
       "      <th>Job_Title</th>\n",
       "      <th>Company_Name</th>\n",
       "      <th>Company_link</th>\n",
       "      <th>Date</th>\n",
       "      <th>Keyword</th>\n",
       "      <th>Location</th>\n",
       "      <th>Employment_Type</th>\n",
       "      <th>Job_Function</th>\n",
       "      <th>Industries</th>\n",
       "      <th>Seniority_Level</th>\n",
       "      <th>Job_Description</th>\n",
       "    </tr>\n",
       "  </thead>\n",
       "  <tbody>\n",
       "    <tr>\n",
       "      <th>0</th>\n",
       "      <td>1</td>\n",
       "      <td>https://linkedin.com/jobs/view/business-analys...</td>\n",
       "      <td>Business Analyst</td>\n",
       "      <td>Cebu Pacific Air</td>\n",
       "      <td>https://ph.linkedin.com/company/cebupacificair...</td>\n",
       "      <td>2023-09-17</td>\n",
       "      <td>software development</td>\n",
       "      <td>Pasay, National Capital Region, Philippines</td>\n",
       "      <td>Full-time</td>\n",
       "      <td>Research, Analyst, and Information Technology</td>\n",
       "      <td>Airlines and Aviation</td>\n",
       "      <td>Mid-Senior level</td>\n",
       "      <td>\\n        &lt;strong&gt;Department&lt;/strong&gt;&lt;p&gt;&lt;br&gt;&lt;/...</td>\n",
       "    </tr>\n",
       "    <tr>\n",
       "      <th>1</th>\n",
       "      <td>2</td>\n",
       "      <td>https://linkedin.com/jobs/view/junior-software...</td>\n",
       "      <td>Junior Software Engineer</td>\n",
       "      <td>Likha-iT Inc.</td>\n",
       "      <td>https://ph.linkedin.com/company/likha-it-inc?t...</td>\n",
       "      <td>2023-09-13</td>\n",
       "      <td>software development</td>\n",
       "      <td>Manila, National Capital Region, Philippines</td>\n",
       "      <td>Full-time</td>\n",
       "      <td>Engineering and Information Technology</td>\n",
       "      <td>IT Services and IT Consulting</td>\n",
       "      <td>Entry level</td>\n",
       "      <td>\\n        &lt;strong&gt;What You Will Do&lt;/strong&gt;&lt;p&gt;...</td>\n",
       "    </tr>\n",
       "    <tr>\n",
       "      <th>2</th>\n",
       "      <td>3</td>\n",
       "      <td>https://linkedin.com/jobs/view/software-develo...</td>\n",
       "      <td>Software Developer</td>\n",
       "      <td>Geoplan Philippines, Inc.</td>\n",
       "      <td>https://ph.linkedin.com/company/geoplanph?trk=...</td>\n",
       "      <td>2023-10-02</td>\n",
       "      <td>software development</td>\n",
       "      <td>Manila, National Capital Region, Philippines</td>\n",
       "      <td>Full-time</td>\n",
       "      <td>Engineering and Information Technology</td>\n",
       "      <td>IT Services and IT Consulting</td>\n",
       "      <td>Entry level</td>\n",
       "      <td>\\n        &lt;strong&gt;Job Summary&lt;/strong&gt;&lt;p&gt;&lt;br&gt;&lt;...</td>\n",
       "    </tr>\n",
       "    <tr>\n",
       "      <th>3</th>\n",
       "      <td>4</td>\n",
       "      <td>https://linkedin.com/jobs/view/full-stack-deve...</td>\n",
       "      <td>Full Stack Developer</td>\n",
       "      <td>JG Summit Holdings Inc.</td>\n",
       "      <td>https://ph.linkedin.com/company/jgshi?trk=publ...</td>\n",
       "      <td>2023-09-12</td>\n",
       "      <td>software development</td>\n",
       "      <td>Quezon City, National Capital Region, Philippines</td>\n",
       "      <td>Full-time</td>\n",
       "      <td>Engineering and Information Technology</td>\n",
       "      <td>Technology, Information and Internet</td>\n",
       "      <td>Entry level</td>\n",
       "      <td>\\n        We are looking for a full stack deve...</td>\n",
       "    </tr>\n",
       "    <tr>\n",
       "      <th>4</th>\n",
       "      <td>5</td>\n",
       "      <td>https://linkedin.com/jobs/view/full-stack-deve...</td>\n",
       "      <td>Full Stack Developer</td>\n",
       "      <td>Bell-Kenz Pharma, Inc.</td>\n",
       "      <td>https://ph.linkedin.com/company/bellkenzpharma...</td>\n",
       "      <td>2023-08-16</td>\n",
       "      <td>software development</td>\n",
       "      <td>Quezon City, National Capital Region, Philippines</td>\n",
       "      <td>Full-time</td>\n",
       "      <td>Engineering and Information Technology</td>\n",
       "      <td>Pharmaceutical Manufacturing</td>\n",
       "      <td>Associate</td>\n",
       "      <td>\\n        &lt;ul&gt;&lt;li&gt;Developing front end website...</td>\n",
       "    </tr>\n",
       "  </tbody>\n",
       "</table>\n",
       "</div>"
      ],
      "text/plain": [
       "   jobpost_id                                               Link  \\\n",
       "0           1  https://linkedin.com/jobs/view/business-analys...   \n",
       "1           2  https://linkedin.com/jobs/view/junior-software...   \n",
       "2           3  https://linkedin.com/jobs/view/software-develo...   \n",
       "3           4  https://linkedin.com/jobs/view/full-stack-deve...   \n",
       "4           5  https://linkedin.com/jobs/view/full-stack-deve...   \n",
       "\n",
       "                  Job_Title               Company_Name  \\\n",
       "0          Business Analyst           Cebu Pacific Air   \n",
       "1  Junior Software Engineer              Likha-iT Inc.   \n",
       "2        Software Developer  Geoplan Philippines, Inc.   \n",
       "3      Full Stack Developer    JG Summit Holdings Inc.   \n",
       "4      Full Stack Developer     Bell-Kenz Pharma, Inc.   \n",
       "\n",
       "                                        Company_link        Date  \\\n",
       "0  https://ph.linkedin.com/company/cebupacificair...  2023-09-17   \n",
       "1  https://ph.linkedin.com/company/likha-it-inc?t...  2023-09-13   \n",
       "2  https://ph.linkedin.com/company/geoplanph?trk=...  2023-10-02   \n",
       "3  https://ph.linkedin.com/company/jgshi?trk=publ...  2023-09-12   \n",
       "4  https://ph.linkedin.com/company/bellkenzpharma...  2023-08-16   \n",
       "\n",
       "                Keyword                                           Location  \\\n",
       "0  software development        Pasay, National Capital Region, Philippines   \n",
       "1  software development       Manila, National Capital Region, Philippines   \n",
       "2  software development       Manila, National Capital Region, Philippines   \n",
       "3  software development  Quezon City, National Capital Region, Philippines   \n",
       "4  software development  Quezon City, National Capital Region, Philippines   \n",
       "\n",
       "  Employment_Type                                   Job_Function  \\\n",
       "0       Full-time  Research, Analyst, and Information Technology   \n",
       "1       Full-time         Engineering and Information Technology   \n",
       "2       Full-time         Engineering and Information Technology   \n",
       "3       Full-time         Engineering and Information Technology   \n",
       "4       Full-time         Engineering and Information Technology   \n",
       "\n",
       "                             Industries   Seniority_Level  \\\n",
       "0                 Airlines and Aviation  Mid-Senior level   \n",
       "1         IT Services and IT Consulting       Entry level   \n",
       "2         IT Services and IT Consulting       Entry level   \n",
       "3  Technology, Information and Internet       Entry level   \n",
       "4          Pharmaceutical Manufacturing         Associate   \n",
       "\n",
       "                                     Job_Description  \n",
       "0  \\n        <strong>Department</strong><p><br></...  \n",
       "1  \\n        <strong>What You Will Do</strong><p>...  \n",
       "2  \\n        <strong>Job Summary</strong><p><br><...  \n",
       "3  \\n        We are looking for a full stack deve...  \n",
       "4  \\n        <ul><li>Developing front end website...  "
      ]
     },
     "execution_count": 9,
     "metadata": {},
     "output_type": "execute_result"
    }
   ],
   "source": [
    "df = pd.read_csv('jobs_post.csv')\n",
    "df.head()"
   ]
  },
  {
   "cell_type": "code",
   "execution_count": 10,
   "metadata": {},
   "outputs": [
    {
     "data": {
      "text/plain": [
       "Index(['jobpost_id', 'Link', 'Job_Title', 'Company_Name', 'Company_link',\n",
       "       'Date', 'Keyword', 'Location', 'Employment_Type', 'Job_Function',\n",
       "       'Industries', 'Seniority_Level', 'Job_Description'],\n",
       "      dtype='object')"
      ]
     },
     "execution_count": 10,
     "metadata": {},
     "output_type": "execute_result"
    }
   ],
   "source": [
    "# print columns\n",
    "df.columns"
   ]
  },
  {
   "cell_type": "code",
   "execution_count": 11,
   "metadata": {},
   "outputs": [
    {
     "name": "stdout",
     "output_type": "stream",
     "text": [
      "<class 'pandas.core.frame.DataFrame'>\n",
      "RangeIndex: 57 entries, 0 to 56\n",
      "Data columns (total 13 columns):\n",
      " #   Column           Non-Null Count  Dtype \n",
      "---  ------           --------------  ----- \n",
      " 0   jobpost_id       57 non-null     int64 \n",
      " 1   Link             57 non-null     object\n",
      " 2   Job_Title        57 non-null     object\n",
      " 3   Company_Name     57 non-null     object\n",
      " 4   Company_link     57 non-null     object\n",
      " 5   Date             57 non-null     object\n",
      " 6   Keyword          57 non-null     object\n",
      " 7   Location         57 non-null     object\n",
      " 8   Employment_Type  57 non-null     object\n",
      " 9   Job_Function     57 non-null     object\n",
      " 10  Industries       57 non-null     object\n",
      " 11  Seniority_Level  57 non-null     object\n",
      " 12  Job_Description  57 non-null     object\n",
      "dtypes: int64(1), object(12)\n",
      "memory usage: 5.9+ KB\n"
     ]
    }
   ],
   "source": [
    "df.info()"
   ]
  },
  {
   "cell_type": "code",
   "execution_count": 12,
   "metadata": {},
   "outputs": [
    {
     "data": {
      "text/plain": [
       "0"
      ]
     },
     "execution_count": 12,
     "metadata": {},
     "output_type": "execute_result"
    }
   ],
   "source": [
    "# identify if there are duplicates\n",
    "df.duplicated().sum()"
   ]
  },
  {
   "cell_type": "code",
   "execution_count": 13,
   "metadata": {},
   "outputs": [
    {
     "name": "stdout",
     "output_type": "stream",
     "text": [
      "jobpost_id 57\n",
      "Link 57\n",
      "Job_Title 50\n",
      "Company_Name 42\n",
      "Company_link 42\n",
      "Date 41\n",
      "Keyword 4\n",
      "Location 16\n",
      "Employment_Type 2\n",
      "Job_Function 14\n",
      "Industries 22\n",
      "Seniority_Level 4\n",
      "Job_Description 57\n"
     ]
    }
   ],
   "source": [
    "# unique values in each column\n",
    "for col in df.columns:\n",
    "    print(col, df[col].nunique())\n"
   ]
  },
  {
   "cell_type": "code",
   "execution_count": null,
   "metadata": {},
   "outputs": [],
   "source": [
    "# extract tech-stack, skills, adjectives and nouns from job description\n"
   ]
  }
 ],
 "metadata": {
  "kernelspec": {
   "display_name": "Python 3",
   "language": "python",
   "name": "python3"
  },
  "language_info": {
   "codemirror_mode": {
    "name": "ipython",
    "version": 3
   },
   "file_extension": ".py",
   "mimetype": "text/x-python",
   "name": "python",
   "nbconvert_exporter": "python",
   "pygments_lexer": "ipython3",
   "version": "3.8.5"
  },
  "orig_nbformat": 4
 },
 "nbformat": 4,
 "nbformat_minor": 2
}
